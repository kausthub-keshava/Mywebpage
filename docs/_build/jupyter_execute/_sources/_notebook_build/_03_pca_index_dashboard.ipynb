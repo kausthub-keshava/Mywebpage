{
 "cells": [
  {
   "cell_type": "markdown",
   "metadata": {},
   "source": [
    "# Changing this notebook\n",
    "\n",
    "In this notebook we will change something to prove that we can make modifications."
   ]
  },
  {
   "cell_type": "code",
   "execution_count": null,
   "metadata": {},
   "outputs": [],
   "source": [
    "import config\n",
    "from pathlib import Path\n",
    "OUTPUT_DIR = Path(config.OUTPUT_DIR)"
   ]
  },
  {
   "cell_type": "code",
   "execution_count": null,
   "metadata": {},
   "outputs": [],
   "source": [
    "import numpy as np\n",
    "from matplotlib import pyplot as plt"
   ]
  },
  {
   "cell_type": "code",
   "execution_count": null,
   "metadata": {},
   "outputs": [],
   "source": [
    "#making a random graph using matplotlib\n",
    "x = np.random.rand(100)\n",
    "y = np.random.rand(100)\n",
    "plt.scatter(x, y)\n",
    "filepath = Path(OUTPUT_DIR) / 'random.png'\n",
    "plt.savefig(filepath)"
   ]
  },
  {
   "cell_type": "code",
   "execution_count": null,
   "metadata": {},
   "outputs": [],
   "source": [
    "#making a sine graph using matplotlib\n",
    "x = np.linspace(0, 2*np.pi, 100)\n",
    "y = np.sin(x)\n",
    "plt.plot(x, y)\n",
    "filepath = Path(OUTPUT_DIR) / 'sine_graph.png'\n",
    "plt.savefig(filepath)"
   ]
  },
  {
   "cell_type": "code",
   "execution_count": null,
   "metadata": {},
   "outputs": [],
   "source": [
    "#making a bar graph using matplotlib\n",
    "objects = ('Python', 'C++', 'Java', 'Perl', 'Scala', 'Lisp')\n",
    "performance = [10, 8, 6, 4, 2, 1]\n",
    "\n",
    "plt.bar(objects, performance, color='blue')\n",
    "plt.xlabel('Programming Languages')\n",
    "plt.ylabel('Usage')\n",
    "plt.title('Programming Language Usage')\n",
    "\n",
    "filepath = Path(OUTPUT_DIR) / 'bar_graph.png'\n",
    "plt.savefig(filepath)"
   ]
  }
 ],
 "metadata": {
  "language_info": {
   "name": "python"
  }
 },
 "nbformat": 4,
 "nbformat_minor": 2
}